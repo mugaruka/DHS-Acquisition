{
 "metadata": {
  "name": "",
  "signature": "sha256:dc88fddc20c5dfe172fefd33fd5319d7cb38f3be62adee4d7c1a674eab47777d"
 },
 "nbformat": 3,
 "nbformat_minor": 0,
 "worksheets": [
  {
   "cells": [
    {
     "cell_type": "code",
     "collapsed": false,
     "input": [
      "import os\n",
      "import glob\n",
      "import zipfile\n",
      "import shutil"
     ],
     "language": "python",
     "metadata": {},
     "outputs": []
    },
    {
     "cell_type": "code",
     "collapsed": false,
     "input": [
      "inDir = r'C:\\Users\\zool1301\\Documents\\DHS\\Acquisition\\20150626_FullSiteScrape\\downloads'"
     ],
     "language": "python",
     "metadata": {},
     "outputs": []
    },
    {
     "cell_type": "code",
     "collapsed": false,
     "input": [
      "# find all zips in all immediate subdirectories of inDir\n",
      "allFiles = glob.glob(os.path.join(inDir,'*','*.zip'))\n",
      "for fn in allFiles:\n",
      "    if str.lower(fn).find('.zip') == -1:\n",
      "        continue\n",
      "    thisDir = os.path.dirname(fn)\n",
      "    with zipfile.ZipFile(fn) as zf:\n",
      "        l = zf.namelist()\n",
      "        # unzip each file but rename it to prepend the survey id number\n",
      "        for zippedfile in l:\n",
      "            unzippedFN = os.path.basename(thisDir)+'.'+zippedfile\n",
      "            unzippedFNPath = os.path.join(thisDir,unzippedFN)\n",
      "            if not os.path.exists(unzippedFNPath):\n",
      "                print zippedfile\n",
      "                outfile = zf.extract(zippedfile, thisDir)\n",
      "                print outfile\n",
      "                os.rename(outfile, unzippedFNPath)\n",
      "            \n",
      "            #if os.path.isdir(unzippedFNPath):\n",
      "            #    print unzippedFNPath\n",
      "            #    shutil.rmtree(unzippedFNPath)\n",
      "            \n",
      "            #if os.path.isdir(unzippedFNPath)\n",
      "            \n",
      "    #basename = os.path.basename(fn)\n",
      "    #dirname = os.path.dirname(fn)\n",
      "    #idname = os.path.basename(dirname)\n",
      "    #newname = idname+'.'+basename\n",
      "    #newpath = os.path.join(dirname,newname)\n",
      "    #print fn\n",
      "    #print newpath\n",
      "    #os.rename(fn,newpath)"
     ],
     "language": "python",
     "metadata": {},
     "outputs": []
    }
   ],
   "metadata": {}
  }
 ]
}